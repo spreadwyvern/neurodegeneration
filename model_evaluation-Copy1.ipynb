{
 "cells": [
  {
   "cell_type": "code",
   "execution_count": 1,
   "metadata": {},
   "outputs": [
    {
     "ename": "ImportError",
     "evalue": "No module named 'test_model'",
     "output_type": "error",
     "traceback": [
      "\u001b[0;31m---------------------------------------------------------------------------\u001b[0m",
      "\u001b[0;31mImportError\u001b[0m                               Traceback (most recent call last)",
      "\u001b[0;32m<ipython-input-1-94b5f17c632f>\u001b[0m in \u001b[0;36m<module>\u001b[0;34m()\u001b[0m\n\u001b[1;32m      9\u001b[0m \u001b[0;32mimport\u001b[0m \u001b[0mtorchvision\u001b[0m\u001b[0;34m.\u001b[0m\u001b[0mmodels\u001b[0m \u001b[0;32mas\u001b[0m \u001b[0mmodels\u001b[0m\u001b[0;34m\u001b[0m\u001b[0m\n\u001b[1;32m     10\u001b[0m \u001b[0;32mfrom\u001b[0m \u001b[0mtorch\u001b[0m\u001b[0;34m.\u001b[0m\u001b[0mutils\u001b[0m\u001b[0;34m.\u001b[0m\u001b[0mdata\u001b[0m \u001b[0;32mimport\u001b[0m \u001b[0msampler\u001b[0m\u001b[0;34m,\u001b[0m \u001b[0mTensorDataset\u001b[0m\u001b[0;34m,\u001b[0m \u001b[0mDataset\u001b[0m\u001b[0;34m\u001b[0m\u001b[0m\n\u001b[0;32m---> 11\u001b[0;31m \u001b[0;32mimport\u001b[0m \u001b[0mtest_model\u001b[0m\u001b[0;34m\u001b[0m\u001b[0m\n\u001b[0m\u001b[1;32m     12\u001b[0m \u001b[0;34m\u001b[0m\u001b[0m\n\u001b[1;32m     13\u001b[0m \u001b[0;32mimport\u001b[0m \u001b[0mmath\u001b[0m\u001b[0;34m\u001b[0m\u001b[0m\n",
      "\u001b[0;31mImportError\u001b[0m: No module named 'test_model'"
     ]
    }
   ],
   "source": [
    "import torch\n",
    "from torch.autograd import Variable\n",
    "import torch.nn as nn\n",
    "import torch.nn.functional as F\n",
    "import torch.optim as optim\n",
    "from torch.optim import lr_scheduler\n",
    "import torchvision\n",
    "import torchvision.transforms as transforms\n",
    "import torchvision.models as models\n",
    "from torch.utils.data import sampler, TensorDataset, Dataset\n",
    "import test_model\n",
    "\n",
    "import math\n",
    "import os\n",
    "os.environ[\"CUDA_VISIBLE_DEVICES\"] = \"2\"\n",
    "import matplotlib.pyplot as plt\n",
    "%matplotlib inline\n",
    "import numpy as np\n",
    "import pandas as pd\n",
    "from pandas import Series\n",
    "import random\n",
    "import scipy\n",
    "import cv2\n",
    "from scipy.stats.stats import pearsonr\n",
    "from sklearn.metrics import mean_absolute_error, r2_score\n",
    "import time"
   ]
  },
  {
   "cell_type": "code",
   "execution_count": null,
   "metadata": {
    "collapsed": true,
    "scrolled": true
   },
   "outputs": [],
   "source": [
    "df = pd.read_excel('Test_Info.xlsx')\n",
    "for index, row in df.iterrows():\n",
    "    df.iloc[index, 0] = df.iloc[index, 0].split(\"'\")[1]"
   ]
  },
  {
   "cell_type": "code",
   "execution_count": null,
   "metadata": {
    "collapsed": true
   },
   "outputs": [],
   "source": [
    "# from sklearn.utils import shuffle\n",
    "# df_sub = df[df['AGE'].between(0, 35, inclusive = (True, False))]\n",
    "# df_sub = shuffle(df_sub)\n",
    "# df_sub = df_sub.iloc[:7, :]\n",
    "# ttt = list(df_sub.ID.values)"
   ]
  },
  {
   "cell_type": "code",
   "execution_count": null,
   "metadata": {
    "collapsed": true
   },
   "outputs": [],
   "source": [
    "# df = pd.DataFrame(row for index, row in df.iterrows() if row.ID not in ttt)"
   ]
  },
  {
   "cell_type": "code",
   "execution_count": null,
   "metadata": {
    "collapsed": true
   },
   "outputs": [],
   "source": [
    "# df = df.reset_index()"
   ]
  },
  {
   "cell_type": "code",
   "execution_count": null,
   "metadata": {
    "collapsed": true
   },
   "outputs": [],
   "source": [
    "dirn_MD = \"/home/lwk/MRI/testing/dti_nlmeans/MD_nl4/\"\n",
    "dirn_FA = \"/home/lwk/MRI/testing/dti_nlmeans/FA_nl4/\"\n",
    "# dirn_MD = \"/data/put_data/lwk/MRI/nlmeans_32/MD_DTI/\"\n",
    "# dirn_FA = \"/data/put_data/lwk/MRI/nlmeans_32/FA_DTI/\""
   ]
  },
  {
   "cell_type": "markdown",
   "metadata": {},
   "source": [
    "df2 = pd.read_csv('TrainingDataDemographics_clean.csv')\n",
    "plt.hist(df2.AGE)\n",
    "plt.savefig(\"dis_all.png\" , dpi = 200)\n",
    "plt.show()\n",
    "plt.close()"
   ]
  },
  {
   "cell_type": "markdown",
   "metadata": {},
   "source": [
    "df3 = pd.read_csv('Test_115.csv')\n",
    "plt.hist(df3.AGE)\n",
    "plt.savefig(\"dis_test_115.png\" , dpi = 200)\n",
    "plt.show()\n",
    "plt.close()"
   ]
  },
  {
   "cell_type": "markdown",
   "metadata": {},
   "source": [
    "plt.hist(df.AGE)\n",
    "plt.savefig(\"dis_test_50.png\" , dpi = 200)\n",
    "plt.show()\n",
    "plt.close()"
   ]
  },
  {
   "cell_type": "markdown",
   "metadata": {},
   "source": [
    "##### minv = np.min(df.AGE.values)\n",
    "maxv = np.max(df.AGE.values)\n",
    "bins = 5\n",
    "plt.hist(df.AGE,bins=bins, normed=True, cumulative=True, label='CDF DATA', histtype='step', alpha=0.55, color='red') \n",
    "plt.hist(df2.AGE,bins=bins, normed=True, cumulative=True, label='CDF DATA', histtype='step', alpha=0.55, color='green') \n",
    "plt.hist(df3.AGE,bins=bins, normed=True, cumulative=True, label='CDF DATA', histtype='step', alpha=0.55, color='blue') \n",
    "plt.axis([10, maxv, 0, 1])\n",
    "plt.xlabel('Age')\n",
    "plt.ylabel('Cumulative probability')\n",
    "plt.legend(['NTU test data (counts=50)', 'All data (counts=558)', 'Test data (counts=115)'], loc='upper left')\n",
    "plt.savefig(\"CDF.png\" , dpi = 300)\n",
    "plt.show()\n",
    "plt.close()"
   ]
  },
  {
   "cell_type": "markdown",
   "metadata": {},
   "source": [
    "df['data'] = 'NTU test data (counts=50)'\n",
    "df2['data'] = 'All data (counts=558)'\n",
    "df3['data'] = 'Test data (counts=115)'\n",
    "data = pd.concat((df, df2.iloc[:, 1:], df3.iloc[:, 1:]), 0)\n",
    "data.boxplot(column = 'AGE', by = 'data',figsize=(20,10), grid=False)\n",
    "plt.savefig('box.png', dpi=300)"
   ]
  },
  {
   "cell_type": "markdown",
   "metadata": {},
   "source": [
    "minv"
   ]
  },
  {
   "cell_type": "code",
   "execution_count": null,
   "metadata": {},
   "outputs": [],
   "source": [
    "test_id = df.ID\n",
    "print(len(test_id))"
   ]
  },
  {
   "cell_type": "markdown",
   "metadata": {},
   "source": [
    "## model loading"
   ]
  },
  {
   "cell_type": "code",
   "execution_count": null,
   "metadata": {},
   "outputs": [],
   "source": [
    "torch.cuda.set_device(0)\n",
    "# specify dtype\n",
    "use_cuda = torch.cuda.is_available()\n",
    "print(use_cuda)\n",
    "if use_cuda:\n",
    "    dtype = torch.cuda.FloatTensor\n",
    "else:\n",
    "    dtype = torch.FloatTensor\n",
    "print(torch.cuda.device_count())"
   ]
  },
  {
   "cell_type": "code",
   "execution_count": null,
   "metadata": {
    "collapsed": true
   },
   "outputs": [],
   "source": [
    "# 1. model_for_prediction/1208/bottle_FA_MD_C16_A3_aug_nlmean_RMSE MAE=4.636 R2=88.376\n",
    "# 2. model_for_prediction/1215/bottle_FA_MD_C16_A3_aug_nlmean32_RMSE_adam\n",
    "dir_m = 'model_for_prediction/1219/bottle_FA_MD_C16_A3_aug_nlmeans_RMSE_adam/'"
   ]
  },
  {
   "cell_type": "code",
   "execution_count": null,
   "metadata": {},
   "outputs": [],
   "source": [
    "time_str = time.strftime(\"%m%d\")\n",
    "result_dirn = 'result/' + time_str + '/' + dir_m.split('/')[-2] + '/' \n",
    "if not os.path.exists(result_dirn):\n",
    "    os.makedirs(result_dirn)\n",
    "print('result will be saved to ', result_dirn)"
   ]
  },
  {
   "cell_type": "code",
   "execution_count": null,
   "metadata": {
    "collapsed": true,
    "scrolled": true
   },
   "outputs": [],
   "source": [
    "# model = test_model.CNN_1(base=16).type(dtype)\n",
    "model = test_model.CNN_2(base=32).type(dtype)\n",
    "net = torch.nn.DataParallel(model)"
   ]
  },
  {
   "cell_type": "code",
   "execution_count": null,
   "metadata": {
    "collapsed": true
   },
   "outputs": [],
   "source": [
    "net.load_state_dict(torch.load(dir_m + 'model.pkl'))"
   ]
  },
  {
   "cell_type": "markdown",
   "metadata": {},
   "source": [
    "## Data loader"
   ]
  },
  {
   "cell_type": "code",
   "execution_count": null,
   "metadata": {
    "collapsed": true
   },
   "outputs": [],
   "source": [
    "def change_format(img):\n",
    "    img = np.expand_dims(img, axis = 3)\n",
    "    img = np.swapaxes(np.swapaxes(img, 1, 2), 0, 3)\n",
    "    return img"
   ]
  },
  {
   "cell_type": "code",
   "execution_count": null,
   "metadata": {
    "collapsed": true
   },
   "outputs": [],
   "source": [
    "class MDFA_Dataset(Dataset):\n",
    "    def __init__(self, id_list, dirn_MD, dirn_FA):\n",
    "        self.id_list = id_list\n",
    "        self.dirn_MD = dirn_MD\n",
    "        self.dirn_FA = dirn_FA\n",
    "    def __getitem__(self, index):\n",
    "        X_MD = np.load(self.dirn_MD + self.id_list[index] + '.npy')\n",
    "        X_FA = np.load(self.dirn_FA + self.id_list[index] + '.npy')\n",
    "        X_MD = change_format(X_MD)\n",
    "        X_FA = change_format(X_FA)\n",
    "        label = df[df['ID'] == self.id_list[index]]['AGE'].values[0]\n",
    "        return X_MD, X_FA, label\n",
    "\n",
    "    def __len__(self):\n",
    "        return len(self.id_list)"
   ]
  },
  {
   "cell_type": "code",
   "execution_count": null,
   "metadata": {
    "collapsed": true
   },
   "outputs": [],
   "source": [
    "test_MDFA_dataset = MDFA_Dataset(test_id, dirn_MD, dirn_FA)\n",
    "testloader = torch.utils.data.DataLoader(test_MDFA_dataset, batch_size=len(test_id), shuffle=False, num_workers=2)"
   ]
  },
  {
   "cell_type": "markdown",
   "metadata": {},
   "source": [
    "## Prediction"
   ]
  },
  {
   "cell_type": "code",
   "execution_count": null,
   "metadata": {
    "collapsed": true
   },
   "outputs": [],
   "source": [
    "def plot_making(true, pred, types):\n",
    "    cor = pearsonr(true, pred)[0]\n",
    "    mae = mean_absolute_error(true, pred)\n",
    "    r2 = r2_score(true, pred) \n",
    "    plt.figure(0)\n",
    "    plt.plot(true, true,'k-')\n",
    "    plt.scatter(true, pred, alpha = .15, s = 20)\n",
    "    plt.xlabel('True_Y')\n",
    "    plt.ylabel('Pred_Y')\n",
    "    plt.title(\"MAE = %3f; Cor = %3f; R2 = %3f; #samples = %d\" % (mae, cor, r2, len(true)))\n",
    "    plt.savefig(result_dirn + types + \"_plot_scatter.png\" , dpi = 200)\n",
    "    plt.show()\n",
    "    plt.close()"
   ]
  },
  {
   "cell_type": "code",
   "execution_count": null,
   "metadata": {
    "scrolled": true
   },
   "outputs": [],
   "source": [
    "criterion = nn.L1Loss()\n",
    "def loss_generator(testloader, model, types):\n",
    "    test_loss = []\n",
    "    true = []\n",
    "    pred = []\n",
    "    for i, tdata in enumerate(testloader, 0):\n",
    "        tinputs1,tinputs2, tlabels = tdata\n",
    "        tinputs1,tinputs2, tlabels = Variable(tinputs1, volatile=True).type(dtype), Variable(tinputs2, volatile=True).type(dtype), Variable(tlabels, volatile=True).type(dtype)\n",
    "        toutput = net(tinputs1,tinputs2)\n",
    "        tloss = criterion(toutput, tlabels)\n",
    "        test_loss.append(tloss.data[0])\n",
    "        true.extend(tlabels.data.cpu().numpy())\n",
    "        pred.extend(toutput.data.cpu().numpy())\n",
    "    true = np.asarray(true)\n",
    "    pred = np.asarray(pred)\n",
    "    pred = np.squeeze(pred, axis = 1)\n",
    "    d = {'true': true, 'pred': pred}\n",
    "    df = pd.DataFrame(data=d)\n",
    "    df.to_csv('out_115.csv')\n",
    "    plot_making(true, pred, types = types)\n",
    "    print('L1 Loss on test images: %r' % (np.average(test_loss)))\n",
    "\n",
    "loss_generator(testloader, net.eval(), types = 'test')"
   ]
  },
  {
   "cell_type": "code",
   "execution_count": null,
   "metadata": {},
   "outputs": [],
   "source": [
    "df"
   ]
  }
 ],
 "metadata": {
  "kernelspec": {
   "display_name": "Python 3",
   "language": "python",
   "name": "python3"
  },
  "language_info": {
   "codemirror_mode": {
    "name": "ipython",
    "version": 3
   },
   "file_extension": ".py",
   "mimetype": "text/x-python",
   "name": "python",
   "nbconvert_exporter": "python",
   "pygments_lexer": "ipython3",
   "version": "3.5.2"
  }
 },
 "nbformat": 4,
 "nbformat_minor": 2
}
