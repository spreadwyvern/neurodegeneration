{
 "cells": [
  {
   "cell_type": "code",
   "execution_count": 1,
   "metadata": {},
   "outputs": [
    {
     "name": "stderr",
     "output_type": "stream",
     "text": [
      "[NbConvertApp] Converting notebook brain_age.ipynb to script\n",
      "[NbConvertApp] Writing 2418 bytes to brain_age.py\n"
     ]
    }
   ],
   "source": [
    "!jupyter nbconvert --to script brain_age.ipynb"
   ]
  },
  {
   "cell_type": "code",
   "execution_count": 1,
   "metadata": {},
   "outputs": [],
   "source": [
    "import torch\n",
    "from torch.autograd import Variable\n",
    "import torch.nn as nn\n",
    "import torch.nn.functional as F\n",
    "import torch.optim as optim\n",
    "from torch.optim import lr_scheduler\n",
    "import torchvision\n",
    "import torchvision.transforms as transforms\n",
    "import torchvision.models as models\n",
    "from torch.utils.data import sampler, TensorDataset, Dataset\n",
    "import test_model\n",
    "\n",
    "import math\n",
    "import os\n",
    "os.environ[\"CUDA_VISIBLE_DEVICES\"] = \"0\"\n",
    "import matplotlib.pyplot as plt\n",
    "%matplotlib inline\n",
    "import numpy as np\n",
    "import pandas as pd\n",
    "from pandas import Series\n",
    "import random\n",
    "import scipy\n",
    "import cv2\n",
    "from scipy.stats.stats import pearsonr\n",
    "from sklearn.metrics import mean_absolute_error, r2_score\n",
    "import time"
   ]
  },
  {
   "cell_type": "markdown",
   "metadata": {},
   "source": [
    "## model loading"
   ]
  },
  {
   "cell_type": "code",
   "execution_count": 2,
   "metadata": {},
   "outputs": [
    {
     "name": "stdout",
     "output_type": "stream",
     "text": [
      "True\n",
      "1\n"
     ]
    }
   ],
   "source": [
    "torch.cuda.set_device(0)\n",
    "# specify dtype\n",
    "use_cuda = torch.cuda.is_available()\n",
    "print(use_cuda)\n",
    "if use_cuda:\n",
    "    dtype = torch.cuda.FloatTensor\n",
    "else:\n",
    "    dtype = torch.FloatTensor\n",
    "print(torch.cuda.device_count())"
   ]
  },
  {
   "cell_type": "code",
   "execution_count": 3,
   "metadata": {},
   "outputs": [],
   "source": [
    "dir_m = 'model_for_prediction/'"
   ]
  },
  {
   "cell_type": "code",
   "execution_count": 4,
   "metadata": {
    "scrolled": true
   },
   "outputs": [],
   "source": [
    "model = test_model.CNN_2(base=32).type(dtype)\n",
    "net = torch.nn.DataParallel(model)"
   ]
  },
  {
   "cell_type": "code",
   "execution_count": 5,
   "metadata": {},
   "outputs": [],
   "source": [
    "net.load_state_dict(torch.load(dir_m + 'model_04.pkl'))"
   ]
  },
  {
   "cell_type": "code",
   "execution_count": 38,
   "metadata": {},
   "outputs": [],
   "source": [
    "def change_format(img):\n",
    "    img = np.expand_dims(img, axis = 3)\n",
    "#     img = np.swapaxes(np.swapaxes(img, 1, 2), 0, 3)\n",
    "    img = np.swapaxes(img, 1, 2)\n",
    "    img = np.swapaxes(img, 0, 3)\n",
    "    return img"
   ]
  },
  {
   "cell_type": "code",
   "execution_count": null,
   "metadata": {
    "scrolled": true
   },
   "outputs": [
    {
     "name": "stdout",
     "output_type": "stream",
     "text": [
      "Input MD path: 1_MD.npy\n",
      "1_MD.npy\n",
      "(96, 96, 66)\n",
      "(1, 1, 66, 96, 96)\n",
      "torch.Size([1, 1, 66, 96, 96])\n",
      "Input FA path: 1_FA.npy\n"
     ]
    },
    {
     "name": "stderr",
     "output_type": "stream",
     "text": [
      "c:\\users\\sprea\\appdata\\local\\programs\\python\\python36\\lib\\site-packages\\ipykernel_launcher.py:27: UserWarning: volatile was removed and now has no effect. Use `with torch.no_grad():` instead.\n",
      "c:\\users\\sprea\\appdata\\local\\programs\\python\\python36\\lib\\site-packages\\ipykernel_launcher.py:28: UserWarning: volatile was removed and now has no effect. Use `with torch.no_grad():` instead.\n"
     ]
    },
    {
     "name": "stdout",
     "output_type": "stream",
     "text": [
      "torch.Size([1, 16384])\n",
      "Predicted brain age: [[24.631304]] years old\n",
      "Input MD path: 23_md.npy\n",
      "23_md.npy\n",
      "(96, 96, 66)\n",
      "(1, 1, 66, 96, 96)\n",
      "torch.Size([1, 1, 66, 96, 96])\n",
      "Input FA path: 23_fa.npy\n",
      "torch.Size([1, 16384])\n",
      "Predicted brain age: [[18.545376]] years old\n",
      "Input MD path: 55_fa.npy\n",
      "55_fa.npy\n",
      "(96, 96, 66)\n",
      "(1, 1, 66, 96, 96)\n",
      "torch.Size([1, 1, 66, 96, 96])\n",
      "Input FA path: 55_fa.npy\n",
      "torch.Size([1, 16384])\n",
      "Predicted brain age: [[76.21526]] years old\n",
      "Input MD path: 55_md.npy\n",
      "55_md.npy\n",
      "(96, 96, 66)\n",
      "(1, 1, 66, 96, 96)\n",
      "torch.Size([1, 1, 66, 96, 96])\n",
      "Input FA path: 55_fa.npy\n",
      "torch.Size([1, 16384])\n",
      "Predicted brain age: [[51.76025]] years old\n",
      "Input MD path: 76_md.npy\n",
      "76_md.npy\n",
      "(96, 96, 66)\n",
      "(1, 1, 66, 96, 96)\n",
      "torch.Size([1, 1, 66, 96, 96])\n",
      "Input FA path: 76_fa.npy\n",
      "torch.Size([1, 16384])\n",
      "Predicted brain age: [[71.81777]] years old\n"
     ]
    }
   ],
   "source": [
    "import numpy as np\n",
    "while True:\n",
    "    MD_path = input('Input MD path: ')\n",
    "    print(MD_path)\n",
    "    try:\n",
    "        X_MD = np.load(MD_path)\n",
    "    except:\n",
    "        print('Unable to open MD images! Try again!')\n",
    "        continue\n",
    "    print(X_MD.shape)\n",
    "    X_MD = change_format(X_MD)\n",
    "    X_MD = np.expand_dims(X_MD, axis = 0)\n",
    "    print(X_MD.shape)\n",
    "    X_MD = torch.from_numpy(X_MD)\n",
    "    print(X_MD.shape)\n",
    "\n",
    "    FA_path = input('Input FA path: ')\n",
    "    try:\n",
    "        X_FA = np.load(FA_path)\n",
    "    except:\n",
    "        print('Unable to open FA images! Try again!')\n",
    "        continue\n",
    "    X_FA = change_format(X_FA)\n",
    "    X_FA = np.expand_dims(X_FA, axis = 0)\n",
    "    X_FA = torch.from_numpy(X_FA)\n",
    "\n",
    "    X_MD = Variable(X_MD, volatile=True).type(dtype)\n",
    "    X_FA = Variable(X_FA, volatile=True).type(dtype)\n",
    "    toutput = net(X_MD, X_FA)\n",
    "#     tloss = criterion(toutput, tlabels)\n",
    "#     test_loss.append(tloss.data[0])\n",
    "    pred = toutput.data.cpu().numpy()\n",
    "    \n",
    "    print('Predicted brain age: {} years old'.format(pred))\n",
    "    del X_FA\n",
    "    del X_MD"
   ]
  },
  {
   "cell_type": "code",
   "execution_count": null,
   "metadata": {},
   "outputs": [],
   "source": []
  }
 ],
 "metadata": {
  "kernelspec": {
   "display_name": "Python 3",
   "language": "python",
   "name": "python3"
  },
  "language_info": {
   "codemirror_mode": {
    "name": "ipython",
    "version": 3
   },
   "file_extension": ".py",
   "mimetype": "text/x-python",
   "name": "python",
   "nbconvert_exporter": "python",
   "pygments_lexer": "ipython3",
   "version": "3.6.5"
  }
 },
 "nbformat": 4,
 "nbformat_minor": 2
}
